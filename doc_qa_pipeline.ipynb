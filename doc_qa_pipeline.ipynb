{
  "nbformat": 4,
  "nbformat_minor": 0,
  "metadata": {
    "colab": {
      "private_outputs": true,
      "provenance": [],
      "collapsed_sections": [],
      "include_colab_link": true
    },
    "kernelspec": {
      "name": "python3",
      "display_name": "Python 3"
    },
    "language_info": {
      "name": "python"
    }
  },
  "cells": [
    {
      "cell_type": "markdown",
      "metadata": {
        "id": "view-in-github",
        "colab_type": "text"
      },
      "source": [
        "<a href=\"https://colab.research.google.com/github/DevMachTech/notebooks/blob/master/doc_qa_pipeline.ipynb\" target=\"_parent\"><img src=\"https://colab.research.google.com/assets/colab-badge.svg\" alt=\"Open In Colab\"/></a>"
      ]
    },
    {
      "cell_type": "code",
      "source": [
        "!apt install tesseract-ocr\n",
        "!apt install libtesseract-dev"
      ],
      "metadata": {
        "id": "PfGJrw2OsCw1"
      },
      "execution_count": null,
      "outputs": []
    },
    {
      "cell_type": "code",
      "execution_count": null,
      "metadata": {
        "id": "Hc8Y-_Pkqn22"
      },
      "outputs": [],
      "source": [
        "!pip install Pillow\n",
        "!pip install pytesseract\n",
        "!pip install transformers"
      ]
    },
    {
      "cell_type": "code",
      "source": [
        "# You can use a http link, a local path or a PIL.Image object\n",
        "img_path = \"https://huggingface.co/spaces/impira/docquery/resolve/main/contract.jpeg\""
      ],
      "metadata": {
        "id": "ActTfGzBrE-5"
      },
      "execution_count": null,
      "outputs": []
    },
    {
      "cell_type": "code",
      "source": [
        "from transformers import pipeline\n",
        "\n",
        "pipe = pipeline(\"document-question-answering\")"
      ],
      "metadata": {
        "id": "pOfOs4lzqpJp"
      },
      "execution_count": null,
      "outputs": []
    },
    {
      "cell_type": "code",
      "source": [
        "pipe(image=img_path, question=\"what is the purchase amount?\")"
      ],
      "metadata": {
        "id": "ZG495Ywkqs27"
      },
      "execution_count": null,
      "outputs": []
    }
  ]
}