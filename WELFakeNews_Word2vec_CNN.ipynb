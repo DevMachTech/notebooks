{
  "nbformat": 4,
  "nbformat_minor": 0,
  "metadata": {
    "colab": {
      "name": "WELFakeNews Word2vec_CNN.ipynb",
      "provenance": [],
      "collapsed_sections": [],
      "include_colab_link": true
    },
    "kernelspec": {
      "name": "python3",
      "display_name": "Python 3"
    },
    "language_info": {
      "name": "python"
    }
  },
  "cells": [
    {
      "cell_type": "markdown",
      "metadata": {
        "id": "view-in-github",
        "colab_type": "text"
      },
      "source": [
        "<a href=\"https://colab.research.google.com/github/DevMachTech/notebooks/blob/master/WELFakeNews_Word2vec_CNN.ipynb\" target=\"_parent\"><img src=\"https://colab.research.google.com/assets/colab-badge.svg\" alt=\"Open In Colab\"/></a>"
      ]
    },
    {
      "cell_type": "markdown",
      "metadata": {
        "id": "39IosCbpb0WI"
      },
      "source": [
        "Word2vec CNN"
      ]
    },
    {
      "cell_type": "code",
      "metadata": {
        "colab": {
          "base_uri": "https://localhost:8080/"
        },
        "id": "qMGyehbHb6kM",
        "outputId": "e5141d3a-b5d7-4db1-98f8-0b2786291e9b"
      },
      "source": [
        "from google.colab import drive\n",
        "drive.mount('/content/drive')\n",
        "%cd '/content/drive'"
      ],
      "execution_count": null,
      "outputs": [
        {
          "output_type": "stream",
          "name": "stdout",
          "text": [
            "Mounted at /content/drive\n",
            "/content/drive\n"
          ]
        }
      ]
    },
    {
      "cell_type": "code",
      "metadata": {
        "colab": {
          "base_uri": "https://localhost:8080/"
        },
        "id": "RzQ4tYHOcrbB",
        "outputId": "991c0af3-e3a8-4970-a951-90471f1fa331"
      },
      "source": [
        "import numpy as np\n",
        "import pandas as pd\n",
        "import matplotlib.pyplot as plt\n",
        "from gensim.models.word2vec import Word2Vec\n",
        "from sklearn.model_selection import train_test_split\n",
        "from tensorflow.keras.utils import to_categorical\n",
        "from tensorflow.keras.layers import Dense, Dropout, Conv1D, MaxPool1D, GlobalMaxPool1D, Embedding, Activation\n",
        "from tensorflow.keras.preprocessing.text import Tokenizer\n",
        "from tensorflow.keras.preprocessing.sequence import pad_sequences\n",
        "from tensorflow.keras.models import Sequential\n",
        "import re\n",
        "import nltk\n",
        "from nltk.corpus import stopwords\n",
        "from nltk.stem.snowball import PorterStemmer\n",
        "from sklearn import preprocessing\n",
        "from sklearn.metrics import classification_report\n",
        "\n",
        "import nltk\n",
        "nltk.download('stopwords')"
      ],
      "execution_count": null,
      "outputs": [
        {
          "output_type": "stream",
          "name": "stdout",
          "text": [
            "[nltk_data] Downloading package stopwords to /root/nltk_data...\n",
            "[nltk_data]   Package stopwords is already up-to-date!\n"
          ]
        },
        {
          "output_type": "execute_result",
          "data": {
            "text/plain": [
              "True"
            ]
          },
          "metadata": {},
          "execution_count": 16
        }
      ]
    },
    {
      "cell_type": "code",
      "metadata": {
        "colab": {
          "base_uri": "https://localhost:8080/",
          "height": 206
        },
        "id": "SAeNT0ZMb-vG",
        "outputId": "e171169a-2488-4701-921f-039406258404"
      },
      "source": [
        "df = pd.read_csv(\"/content/drive/MyDrive/hate_speech/WELFake_Dataset.csv\")\n",
        "df = df.iloc[:,[2,-1]]\n",
        "df.columns = [\"text\", \"label\"]\n",
        "df.head()"
      ],
      "execution_count": null,
      "outputs": [
        {
          "output_type": "execute_result",
          "data": {
            "text/html": [
              "<div>\n",
              "<style scoped>\n",
              "    .dataframe tbody tr th:only-of-type {\n",
              "        vertical-align: middle;\n",
              "    }\n",
              "\n",
              "    .dataframe tbody tr th {\n",
              "        vertical-align: top;\n",
              "    }\n",
              "\n",
              "    .dataframe thead th {\n",
              "        text-align: right;\n",
              "    }\n",
              "</style>\n",
              "<table border=\"1\" class=\"dataframe\">\n",
              "  <thead>\n",
              "    <tr style=\"text-align: right;\">\n",
              "      <th></th>\n",
              "      <th>text</th>\n",
              "      <th>label</th>\n",
              "    </tr>\n",
              "  </thead>\n",
              "  <tbody>\n",
              "    <tr>\n",
              "      <th>0</th>\n",
              "      <td>No comment is expected from Barack Obama Membe...</td>\n",
              "      <td>1</td>\n",
              "    </tr>\n",
              "    <tr>\n",
              "      <th>1</th>\n",
              "      <td>Did they post their votes for Hillary already?</td>\n",
              "      <td>1</td>\n",
              "    </tr>\n",
              "    <tr>\n",
              "      <th>2</th>\n",
              "      <td>Now, most of the demonstrators gathered last ...</td>\n",
              "      <td>1</td>\n",
              "    </tr>\n",
              "    <tr>\n",
              "      <th>3</th>\n",
              "      <td>A dozen politically active pastors came here f...</td>\n",
              "      <td>0</td>\n",
              "    </tr>\n",
              "    <tr>\n",
              "      <th>4</th>\n",
              "      <td>The RS-28 Sarmat missile, dubbed Satan 2, will...</td>\n",
              "      <td>1</td>\n",
              "    </tr>\n",
              "  </tbody>\n",
              "</table>\n",
              "</div>"
            ],
            "text/plain": [
              "                                                text  label\n",
              "0  No comment is expected from Barack Obama Membe...      1\n",
              "1     Did they post their votes for Hillary already?      1\n",
              "2   Now, most of the demonstrators gathered last ...      1\n",
              "3  A dozen politically active pastors came here f...      0\n",
              "4  The RS-28 Sarmat missile, dubbed Satan 2, will...      1"
            ]
          },
          "metadata": {},
          "execution_count": 3
        }
      ]
    },
    {
      "cell_type": "code",
      "metadata": {
        "colab": {
          "base_uri": "https://localhost:8080/"
        },
        "id": "LXOYy_7pcDc-",
        "outputId": "eea3d080-2f95-4a1d-f518-25a655ba95ea"
      },
      "source": [
        "df = df.sample(frac=0.07)\n",
        "df.describe()\n",
        "df.isnull().sum()\n",
        "\n",
        "df.dropna(inplace=True)\n",
        "df.isnull().sum()"
      ],
      "execution_count": null,
      "outputs": [
        {
          "output_type": "execute_result",
          "data": {
            "text/plain": [
              "text     0\n",
              "label    0\n",
              "dtype: int64"
            ]
          },
          "metadata": {},
          "execution_count": 4
        }
      ]
    },
    {
      "cell_type": "code",
      "metadata": {
        "id": "ES0vuGBZdOHK"
      },
      "source": [
        "def preprocess_text(sen):\n",
        "    # Remove punctuations and numbers\n",
        "    sentence = re.sub('[^a-zA-Z]', ' ', sen)\n",
        "\n",
        "    # Single character removal\n",
        "    sentence = re.sub(r\"\\s+[a-zA-Z]\\s+\", ' ', sentence)\n",
        "\n",
        "    # Removing multiple spaces\n",
        "    sentence = re.sub(r'\\s+', ' ', sentence)\n",
        "    \n",
        "    stops = stopwords.words('english')\n",
        "    #print(stops)\n",
        "    porter = PorterStemmer()\n",
        "    for word in sentence.split():\n",
        "        if word in stops:\n",
        "            sentence = sentence.replace(word, '')\n",
        "        sentence = sentence.replace(word, porter.stem(word))\n",
        "    return sentence.lower()"
      ],
      "execution_count": null,
      "outputs": []
    },
    {
      "cell_type": "code",
      "metadata": {
        "colab": {
          "base_uri": "https://localhost:8080/",
          "height": 363
        },
        "id": "B5wNQWu2cJGk",
        "outputId": "b843503a-605d-4a82-c7a3-0dc7bb472f90"
      },
      "source": [
        "df['Message'] = df['text'].apply(preprocess_text)\n",
        "df.head(10)"
      ],
      "execution_count": null,
      "outputs": [
        {
          "output_type": "execute_result",
          "data": {
            "text/html": [
              "<div>\n",
              "<style scoped>\n",
              "    .dataframe tbody tr th:only-of-type {\n",
              "        vertical-align: middle;\n",
              "    }\n",
              "\n",
              "    .dataframe tbody tr th {\n",
              "        vertical-align: top;\n",
              "    }\n",
              "\n",
              "    .dataframe thead th {\n",
              "        text-align: right;\n",
              "    }\n",
              "</style>\n",
              "<table border=\"1\" class=\"dataframe\">\n",
              "  <thead>\n",
              "    <tr style=\"text-align: right;\">\n",
              "      <th></th>\n",
              "      <th>text</th>\n",
              "      <th>label</th>\n",
              "      <th>Message</th>\n",
              "    </tr>\n",
              "  </thead>\n",
              "  <tbody>\n",
              "    <tr>\n",
              "      <th>50491</th>\n",
              "      <td>I was scrolling through Instagram when I saw i...</td>\n",
              "      <td>0</td>\n",
              "      <td>i  scro  stagra  saw  w fuzz b  babi seal snug...</td>\n",
              "    </tr>\n",
              "    <tr>\n",
              "      <th>3215</th>\n",
              "      <td>BRASILIA (Reuters) - Brazilian President Miche...</td>\n",
              "      <td>0</td>\n",
              "      <td>brilia reuter brazili presid micl temer face s...</td>\n",
              "    </tr>\n",
              "    <tr>\n",
              "      <th>15846</th>\n",
              "      <td>Friday on ABC’s “The View,” former   and execu...</td>\n",
              "      <td>0</td>\n",
              "      <td>friday  abc  view fr  execut produc   com vh s...</td>\n",
              "    </tr>\n",
              "    <tr>\n",
              "      <th>47529</th>\n",
              "      <td>Posted on July 15, 2015 by Dr. Eowyn | 33 Comm...</td>\n",
              "      <td>1</td>\n",
              "      <td>post  juli  dr eowyn comnt it  psi turvi wld  ...</td>\n",
              "    </tr>\n",
              "    <tr>\n",
              "      <th>30660</th>\n",
              "      <td>Pittsfield, New Hampshire is an unlikely place...</td>\n",
              "      <td>1</td>\n",
              "      <td>ptsfield new hampshir   unlik place  someth li...</td>\n",
              "    </tr>\n",
              "    <tr>\n",
              "      <th>53156</th>\n",
              "      <td>Homeless man looking a bit down today for some...</td>\n",
              "      <td>1</td>\n",
              "      <td>homeless man look bit  ay   rean homeless man ...</td>\n",
              "    </tr>\n",
              "    <tr>\n",
              "      <th>47062</th>\n",
              "      <td>CHICAGO/WASHINGTON (Reuters) - President Donal...</td>\n",
              "      <td>0</td>\n",
              "      <td>chicago hgt reuter presid dald trump said  fri...</td>\n",
              "    </tr>\n",
              "    <tr>\n",
              "      <th>16687</th>\n",
              "      <td>21st Century Wire says The US media s neoMcCar...</td>\n",
              "      <td>1</td>\n",
              "      <td>st centuri wire say  us media neomccarthi lik...</td>\n",
              "    </tr>\n",
              "    <tr>\n",
              "      <th>2922</th>\n",
              "      <td>Walt Whitman’s America Through Edward Weston’s...</td>\n",
              "      <td>1</td>\n",
              "      <td>walt whm arica  edward west eye jord rief thi ...</td>\n",
              "    </tr>\n",
              "    <tr>\n",
              "      <th>58678</th>\n",
              "      <td>MELBOURNE (Reuters) - The man accused of delib...</td>\n",
              "      <td>0</td>\n",
              "      <td>melbourn reuter  m accus  delir plow  chrtma s...</td>\n",
              "    </tr>\n",
              "  </tbody>\n",
              "</table>\n",
              "</div>"
            ],
            "text/plain": [
              "                                                    text  ...                                            Message\n",
              "50491  I was scrolling through Instagram when I saw i...  ...  i  scro  stagra  saw  w fuzz b  babi seal snug...\n",
              "3215   BRASILIA (Reuters) - Brazilian President Miche...  ...  brilia reuter brazili presid micl temer face s...\n",
              "15846  Friday on ABC’s “The View,” former   and execu...  ...  friday  abc  view fr  execut produc   com vh s...\n",
              "47529  Posted on July 15, 2015 by Dr. Eowyn | 33 Comm...  ...  post  juli  dr eowyn comnt it  psi turvi wld  ...\n",
              "30660  Pittsfield, New Hampshire is an unlikely place...  ...  ptsfield new hampshir   unlik place  someth li...\n",
              "53156  Homeless man looking a bit down today for some...  ...  homeless man look bit  ay   rean homeless man ...\n",
              "47062  CHICAGO/WASHINGTON (Reuters) - President Donal...  ...  chicago hgt reuter presid dald trump said  fri...\n",
              "16687  21st Century Wire says The US media s neoMcCar...  ...   st centuri wire say  us media neomccarthi lik...\n",
              "2922   Walt Whitman’s America Through Edward Weston’s...  ...  walt whm arica  edward west eye jord rief thi ...\n",
              "58678  MELBOURNE (Reuters) - The man accused of delib...  ...  melbourn reuter  m accus  delir plow  chrtma s...\n",
              "\n",
              "[10 rows x 3 columns]"
            ]
          },
          "metadata": {},
          "execution_count": 6
        }
      ]
    },
    {
      "cell_type": "code",
      "metadata": {
        "colab": {
          "base_uri": "https://localhost:8080/"
        },
        "id": "eeoE0bzvcNOM",
        "outputId": "ad535955-cb09-410b-8ae4-5cd523f93809"
      },
      "source": [
        "mes = []\n",
        "for i in df['Message']:\n",
        "    mes.append(i.split())\n",
        "print(mes[:2])"
      ],
      "execution_count": null,
      "outputs": [
        {
          "output_type": "stream",
          "name": "stdout",
          "text": [
            "[['i', 'scro', 'stagra', 'saw', 'w', 'fuzz', 'b', 'babi', 'seal', 'snuggl', 'sdrt', 'st', 'pili', 's', 'clear', 'black', 'eye', 'squeal', 'scen', 'tap', 'car', 'art', 'neh', 'pho', 'tter', 'liev', 'like', 'n', 'ad', 'capti', 'newbn', 'harp', 'seal', 'hide', 'hd', 'piec', 'sea', 'ice', 'seek', 'slter', 'durg', 'blizzard', 'said', 'aww', 'it', 'nt', 'wh', 'cli', 'loss', 'sea', 'ice', 'harp', 'seal', 'losg', 'ir', 'birthg', 'ground', 'oh', 'in', 'ad', 'percent', 'p', 'die', 'due', 'po', 'ice', 'cd', 'in', 'alost', 'ne', 'surviv', 'as', 'type', 'babi', 'harp', 'seal', 'strugglg', 'surviv', 'yet', 'terribl', 'ice', 'year', 'near', 'agdalen', 'isls', 'oh', 'god', 'ca', 'stagra', 'get', 'quick', 'babi', 'i', 'fix', 'left', 'wh', 'hryg', 'ssag', 'cli', 'chg', 'could', 'wipe', 'p', 'face', 'plet', 's', 'ltle', 'friend', 'o', 'paul', 'nicklen', 'wildl', 'phograpr', 'ok', 'iag', 'k', 'wh', 'g', 'hg', 'cute', 'i', 'pictur', 'like', 'ba', 'el', 'ld', 'hook', 'inteectuy', 'underst', 'th', 'cli', 'chg', 'e', 'ost', 'iptt', 'sues', 'facg', 'plet', 'practicy', 'ign', 't', 'proble', 'feel', 'o', 'big', 'scienc', 'o', 'bg', 'ner', 'found', 'cnient', 'ti', 'wch', 'an', 'incnient', 'truth', 'h', 'page', 'copi', 'nial', 'geograph', 'y', 'adult', 'le', 'part', 'proble', 'cw', 'wildl', 'phograprs', 'cservs', 'found', 'way', 'ach', 'e', 'cial', 'dia', 'shost', 'pleur', 'oglg', 'aals', 'stagra', 'cli', 'chg', 'huge', 'unctable', 'wlg', 'hard', 'talk', 'mr', 'nicklen', 'said', 'd', 'ten', 'st', 'scientts', 'wst', 'counics', 'mr', 'nicklen', 'biologt', 'phograpr', 'persy', 'drawn', 'cutesi', 'stuff', 'postg', 'pictur', 'two', 'year', 'ago', 'babi', 'eper', 'pengu', 'th', 'spid', 'avalc', 'like', 'co', 'around', 'advtages', 'aestic', 'he', 'gularli', 'draw', 'h', 'ii', 'foow', 'wh', 'artwarg', 'iags', 'n', 'pair', 'wh', 'capt', 'th', 'ct', 'cautiary', 'tale', 'ery', 'ten', 'post', 'dict', 'glipse', 'ipendg', 'o', 'sea', 'otter', 'zg', 's', 'lt', 'bhs', 'alk', 'ach', 'bodi', 'ng', 'polar', 'ar', 'th', 'stard', 'deh', 'a', 'arctic', 'th', 'lost', 's', 'ice', 'foowg', 'wildl', 'stagra', 's', 'experiencg', 'eotial', 'whiplh', 't', 'savviest', 'phograprs', 'wk', 'achie', 'cful', 'balce', 'serfici', 'polical', 'jper', 'est', 'dutch', 'wildl', 'phograpr', 'cserv', 'cent', 'ok', 'seri', 'hauntg', 'phographs', 'w', 'srks', 'th', 'ade', 'ir', 'hos', 'europe', 'lf', 'could', 'fi', 'y', 'le', 'stagra', 'wh', 'ry', 'harsh', 'iags', 'srks', 'layg', 'dead', 'garbag', 'feedg', 'pltic', 'peopl', 'would', 'entuy', 'ha', 'enough', 'th', 'mr', 'est', 'said', 'he', 'take', 'c', 'sert', 'idyic', 'iags', 'aid', 'unctable', 'es', 't', 'first', 'thg', 'wt', 'f', 'audienc', 'f', 'lo', 'wh', 'subject', 'said', 'li', 'n', 's', 'th', 'subject', 'livg', 'hu', 'garbag', 'keepg', 'stagra', 'audienc', 'clickg', 'wildl', 'phograpr', 'feed', 's', 'servg', 'dfer', 'kds', 'iags', 'th', 'appear', 'nial', 'geograph', 'e', 'bri', 'skerri', 'ost', 'celebd', 'phographs', 'ss', 'dead', 'thsr', 'shark', 'caught', 'fhg', 'net', 'f', 'mexic', 'cot', 'nial', 'geograph', 'nad', 'e', 'agaze', 'gest', 'phographs', 'ti', 'mr', 'skerri', 'lgti', 'nial', 'geograph', 'phojnalt', 'shd', 'wh', 'h', 'stagra', 'foow', 't', 'wh', 'uted', 'spse', 'me', 'popular', 'shark', 'iags', 'mr', 'skerri', 'ok', 'spner', 'lph', 'leapg', 'neh', 'rabow', 'babi', 'luga', 'whale', 'seegly', 'silg', 'coyli', 'f', 'cara', 'seal', 'posg', 'cooy', 'underr', 'wh', 'e', 'flipper', 'fold', 't', 'seal', 'look', 'drop', 'h', 'ixtape', 'e', 'cter', 'put', 'tse', 'cual', 'ternet', 'surfer', 'ight', 'tepted', 'scro', 'pt', 'cservi', 'public', 'servic', 'nouncents', 'pachi', 'scientic', 'tract', 'bg', 'stagra', 'felg', 'plf', 'open', 'trap', 'envirntal', 'awness', 'wn', 'mr', 'skerri', 'post', 'ptra', 'babi', 'seal', 'tag', 'wh', 'ters', 'clichg', 'nu', 'al', 'seal', 'babi', 'lo', 't', 'stagra', 'user', 'lu', 'agnetic', 'i', 'pho', 'ay', 'fd', 'sels', 'unexpectedli', 'open', 'ssag', 'it', 'c', 'ake', 'feel', 'like', 'y', 'akg', 'se', 'dcies', 'ir', 'mr', 'nicklen', 'said', 'd', 'stagra', 'lack', 'safeguard', 'tradial', 'scientic', 'sces', 'engend', 'sce', 'auntic', 'experi', 'caus', 'ti', 'nu', 'se', 'post', 'vier', 'co', 'trust', 'phograprs', 'said', 'joel', 'sar', 'nial', 'geograph', 'phograpr', 'dediced', 'h', 'cer', 'h', 'stagra', 'phographg', 'r', 'ty', 'feel', 'th', 'y', 'k', 't', 'cts', 'wildl', 'phograprs', 'feed', 'ha', 'spteously', 'turn', 'de', 'fac', 'public', 'fus', 'scienc', 'under', 'cent', 'phograph', 'polar', 'ar', 'th', 'die', 'starvi', 'post', 'mr', 'nicklen', 'argunt', 'unfurl', 'ag', 'senttal', 'i', 'ls', 'c', 'gnnts', 'thg', 'drop', 'fh', 'ythg', 'gi', 'se', 'stngth', 'radic', 'gs', 'dairi', 'eers', 'clai', 'i', 'ls', 'ctrig', 'cli', 'chg', 'denier', 'peopl', 'alize', 'th', 'cog', 'ice', 'age', 'lt', 'year', 'mr', 'nicklen', 'phograpr', 'crta', 'mterier', 'g', 'sealegaci', 'npr', 'th', 'bridg', 'gap', 'fi', 'eoti', 'pairg', 'phograprs', 'wh', 'activt', 'giz', 'stagra', 'cservs', 'hopg', 'ir', 'iags', 'wi', 'spi', 'fs', 'look', 'th', 'wi', 'test', 'l', 'hu', 'nu', 'nti', 'cstrs', 'plf', 'stagra', 'built', 'f', 'psg', 'eye', 'cy', 't', 'capt', 'thoughts', 'wn', 'scro', 'y', 'feed', 'feel', 'good', 'tap', 'sh', 'iag', 'th', 'd', 'en', 'thk', 'feel', 'bad', 'f', 'skippg', 'crical', 'ctext', 'anials', 'ay', 'dyg', 'arctic', 'stagra', 'c', 'alway', 'fd', 'newbn', 'seal', 'p', 'sh', 't', 'picturs', 'fakg', 'cute', 'ag', 'us', 'strg', 'enough', 'sp', 'starg', 'p', 'start', 'takg', 'acti'], ['brilia', 'reuter', 'brazili', 'presid', 'micl', 'temer', 'face', 'spl', 'coal', 'like', 'derail', 'pl', 'put', 'brazil', 'fcial', 'hous', 'der', 'maj', 'cgressmen', 'ma', 'alli', 'parti', 'vote', 'put', 'trial', 'graft', 'alleg', 'lower', 'hous', 'cgress', 'vote', 'wednesday', 'slv', 'crupti', 'ce', 'agt', 'temer', 'ensurg', 'surviv', 'fice', 'but', 'presid', 'rem', 'agenda', 'appear', 'tter', 'ltl', 'chc', 'psg', 'effect', 'overhaul', 'costli', 'social', 'secur', 'pensi', 'system', 'brazili', 'social', 'democr', 'parti', 'psdb', 'lawmak', 'opt', 'go', 'trial', 'in', 'biggest', 'revolt', 'yet', 'agt', 'mth', 'old', 'govern', 'cgressmen', 'psdb', 'vote', 'std', 'trial', 'e', 'suprem', 'court', 'ly', 'supptg', 'presid', 'wh', 'coal', 'darray', 'temer', 'c', 'muster', 'suffici', 'vote', 'ps', 'pensi', 'rem', 'cnersne', 'efts', 'plug', 'budget', 'defic', 'sc', 'f', 'vesrs', 'temer', 'celebr', 'wednesday', 'vicry', 'proclaimg', 'truth', 'w', 'd', 'said', 'govern', 'would', 'return', 'tk', 'recoverg', 'brazil', 'wst', 'ever', 'recessi', 'h', 'chief', 'staff', 'eleu', 'padilha', 'said', 'pensi', 'rem', 'talk', 'would', 'resum', 'day', 'howev', 'temer', 'even', 'w', 'simpl', 'maj', 'wednesday', 'night', 'se', 'lower', 'hous', 'simpl', 'maj', 'need', 'ps', 'y', 'new', 'law', 'd', 'far', 'vote', 'super', 'maj', 'requir', 'cstutial', 'amend', 'pensi', 'rem', 'bill', 'd', 'see', 'g', 'approv', 'even', 'deb', 'fabio', 'sousa', 'first', 'term', 'psdb', 'lawmak', 'said', 'pensi', 'rem', 'h', 'govern', 'fragil', 'd', 're', 'gener', 'elect', 'next', 'year', 'sousa', 'liev', 're', 'ground', 'put', 'temer', 'trial', 'graft', 'd', 'wts', 'see', 'parti', 'break', 'govern', 'd', 'draw', 'four', 'mters', 'c', 'my', 'psdb', 'backg', 'ecomic', 'rems', 'like', 'temer', 'propos', 'thk', 'y', 'need', 'come', 'me', 'legime', 'govern', 'temer', 'populary', 'sunk', 'impeacd', 'leftt', 'dilma', 'rousseff', 'lped', 'oust', 'lt', 'year', 'brazil', 'scks', 'eign', 'currenc', 'd', 'fcial', 'market', 'react', 'calmli', 'wednesday', 'vote', 'up', 'd', 'down', 'far', 'percent', 'sign', 'temer', 'surviv', 'narrow', 'marg', 'well', 'price', 'everye', 'k', 'temer', 'lame', 'duck', 'd', 'nobodi', 'liev', 'social', 'secur', 'rem', 'yme', 'said', 'fabio', 'knijnik', 'magg', 'direcr', 'sao', 'paulo', 'd', 'wealth', 'fund', 'capal', 'he', 'said', 'even', 'smallest', 'pensi', 'rem', 'pses', 'would', 'big', 'surpre', 'd', 'plu', 'vesrs', 'fce', 'mter', 'henriqu', 'meirel', 'ld', 'journalts', 'govern', 'would', 'st', 'current', 'propos', 'mimum', 'retir', 'age', 'd', 'stricter', 'rule', 'pensi', 'nef', 'pensi', 'bill', 'would', 'make', 'brazil', 'retir', 'ler', 'der', 'stave', 'f', 'fcial', 'collaps', 'social', 'secur', 'system', 'my', 'lawmak', 'cludg', 'vote', 'sp', 'temer', 'crimal', 'trial', 'reluctt', 'vote', 'unpopular', 'bill', 'elect', 'approachg', 'it', 'clear', 'broad', 'pensi', 'rem', 'approv', 'cgress', 'temer', 'admtri', 'but', 'chges', 'possibl', 'polical', 'alysts', 'brilia', 'd', 'csultcy', 'arko', 'advic', 'wrote', 'rept', 't', 'week']]\n"
          ]
        }
      ]
    },
    {
      "cell_type": "code",
      "metadata": {
        "colab": {
          "base_uri": "https://localhost:8080/"
        },
        "id": "s6PpG0esce0W",
        "outputId": "0774ef5b-301d-4355-c406-81e9b970bfb5"
      },
      "source": [
        "word2vec_model = Word2Vec(mes, size=500, window=3, min_count=1, workers=16)\n",
        "print(word2vec_model)"
      ],
      "execution_count": null,
      "outputs": [
        {
          "output_type": "stream",
          "name": "stdout",
          "text": [
            "Word2Vec(vocab=79431, size=500, alpha=0.025)\n"
          ]
        }
      ]
    },
    {
      "cell_type": "code",
      "metadata": {
        "colab": {
          "base_uri": "https://localhost:8080/"
        },
        "id": "TSuxc1Nocg_r",
        "outputId": "be4bc218-37b5-4d83-c614-4130b1aa7563"
      },
      "source": [
        "token = Tokenizer(7229)\n",
        "token.fit_on_texts(df['Message'])\n",
        "text = token.texts_to_sequences(df['Message'])\n",
        "text = pad_sequences(text, 75)\n",
        "print(text[:2])"
      ],
      "execution_count": null,
      "outputs": [
        {
          "output_type": "stream",
          "name": "stdout",
          "text": [
            "[[1043  518   17 6593    2 1161  612  846   47   27   20   19 2592    2\n",
            "  2230 3625  554   11 1683 2247 4659 2665   12  581 1833 1478  132    2\n",
            "   581  492   44  946 2504 1382 1145   15 2705  999  393    1   37    6\n",
            "  2334  341  140 3881  178 5780    2    4   29   67  341  665   15 2248\n",
            "  2619  472 5338   16  653  255 3170   58  178    1  660   38  438  956\n",
            "   248   58  307  582  417]\n",
            " [1660   30    8   64 3714  801 6019   13  249 3384    4 2274 2538  481\n",
            "   166   35 2849  155   13   53  459  403 2324  751  846    4  156 3714\n",
            "  1212 3714  120   13  102 2303  751  279  202   15  744 2304  782  199\n",
            "   260   87  689  133   57  248 5077 1120 1289   57 6020  120   70   23\n",
            "   348 2779 3714  801  735  306 5077  360  170 1852  233  286 4738    4\n",
            "  3038  311  188    1  223]]\n"
          ]
        }
      ]
    },
    {
      "cell_type": "code",
      "metadata": {
        "colab": {
          "base_uri": "https://localhost:8080/"
        },
        "id": "qI3dj21BcjUX",
        "outputId": "ce02eb9a-7c91-4b3f-c811-83dae5c6686d"
      },
      "source": [
        "le = preprocessing.LabelEncoder()\n",
        "y = le.fit_transform(df['label'])\n",
        "y = to_categorical(y)\n",
        "y[:2]"
      ],
      "execution_count": null,
      "outputs": [
        {
          "output_type": "execute_result",
          "data": {
            "text/plain": [
              "array([[1., 0.],\n",
              "       [1., 0.]], dtype=float32)"
            ]
          },
          "metadata": {},
          "execution_count": 10
        }
      ]
    },
    {
      "cell_type": "code",
      "metadata": {
        "id": "IiIo6DLHclbU"
      },
      "source": [
        "x_train, x_test, y_train, y_test = train_test_split(np.array(text), y, test_size=0.2, stratify=y)"
      ],
      "execution_count": null,
      "outputs": []
    },
    {
      "cell_type": "code",
      "metadata": {
        "colab": {
          "base_uri": "https://localhost:8080/"
        },
        "id": "WO6yW_eucntn",
        "outputId": "477bdda9-8999-428e-b13a-d0c24f7c0dda"
      },
      "source": [
        "keras_model = Sequential()\n",
        "keras_model.add(word2vec_model.wv.get_keras_embedding(True))\n",
        "keras_model.add(Dropout(0.2))\n",
        "keras_model.add(Conv1D(50, 3, activation='relu', padding='same', strides=1))\n",
        "keras_model.add(Conv1D(50, 3, activation='relu', padding='same', strides=1))\n",
        "keras_model.add(MaxPool1D())\n",
        "keras_model.add(Dropout(0.2))\n",
        "keras_model.add(Conv1D(100, 3, activation='relu', padding='same', strides=1))\n",
        "keras_model.add(Conv1D(100, 3, activation='relu', padding='same', strides=1))\n",
        "keras_model.add(MaxPool1D())\n",
        "keras_model.add(Dropout(0.2))\n",
        "keras_model.add(Conv1D(200, 3, activation='relu', padding='same', strides=1))\n",
        "keras_model.add(Conv1D(200, 3, activation='relu', padding='same', strides=1))\n",
        "keras_model.add(GlobalMaxPool1D())\n",
        "keras_model.add(Dropout(0.2))\n",
        "keras_model.add(Dense(200))\n",
        "keras_model.add(Activation('relu'))\n",
        "keras_model.add(Dropout(0.2))\n",
        "keras_model.add(Dense(2))\n",
        "keras_model.add(Activation('softmax'))\n",
        "keras_model.compile(loss='categorical_crossentropy', metrics=['acc'], optimizer='adam')\n",
        "keras_model.fit(x_train, y_train, batch_size=16, epochs=20, validation_data=(x_test, y_test))"
      ],
      "execution_count": null,
      "outputs": [
        {
          "output_type": "stream",
          "name": "stdout",
          "text": [
            "Epoch 1/20\n",
            "253/253 [==============================] - 115s 447ms/step - loss: 0.6941 - acc: 0.5031 - val_loss: 0.6832 - val_acc: 0.5604\n",
            "Epoch 2/20\n",
            "253/253 [==============================] - 113s 447ms/step - loss: 0.6878 - acc: 0.5326 - val_loss: 0.6771 - val_acc: 0.6089\n",
            "Epoch 3/20\n",
            "253/253 [==============================] - 113s 448ms/step - loss: 0.5813 - acc: 0.6791 - val_loss: 0.5247 - val_acc: 0.7188\n",
            "Epoch 4/20\n",
            "253/253 [==============================] - 113s 448ms/step - loss: 0.4915 - acc: 0.7489 - val_loss: 0.4701 - val_acc: 0.7634\n",
            "Epoch 5/20\n",
            "253/253 [==============================] - 114s 450ms/step - loss: 0.3741 - acc: 0.8391 - val_loss: 0.4716 - val_acc: 0.7861\n",
            "Epoch 6/20\n",
            "253/253 [==============================] - 113s 448ms/step - loss: 0.2720 - acc: 0.8970 - val_loss: 0.5298 - val_acc: 0.7505\n",
            "Epoch 7/20\n",
            "253/253 [==============================] - 113s 448ms/step - loss: 0.2169 - acc: 0.9260 - val_loss: 0.5504 - val_acc: 0.7663\n",
            "Epoch 8/20\n",
            "253/253 [==============================] - 113s 446ms/step - loss: 0.1809 - acc: 0.9413 - val_loss: 0.5848 - val_acc: 0.7634\n",
            "Epoch 9/20\n",
            "253/253 [==============================] - 113s 446ms/step - loss: 0.1545 - acc: 0.9530 - val_loss: 0.6000 - val_acc: 0.7743\n",
            "Epoch 10/20\n",
            "253/253 [==============================] - 113s 446ms/step - loss: 0.1323 - acc: 0.9631 - val_loss: 0.7279 - val_acc: 0.7782\n",
            "Epoch 11/20\n",
            "253/253 [==============================] - 114s 451ms/step - loss: 0.1222 - acc: 0.9663 - val_loss: 0.6657 - val_acc: 0.7931\n",
            "Epoch 12/20\n",
            "253/253 [==============================] - 114s 450ms/step - loss: 0.1176 - acc: 0.9658 - val_loss: 0.8033 - val_acc: 0.7812\n",
            "Epoch 13/20\n",
            "253/253 [==============================] - 115s 453ms/step - loss: 0.1110 - acc: 0.9708 - val_loss: 0.9642 - val_acc: 0.7772\n",
            "Epoch 14/20\n",
            "253/253 [==============================] - 114s 452ms/step - loss: 0.0981 - acc: 0.9743 - val_loss: 0.8959 - val_acc: 0.7743\n",
            "Epoch 15/20\n",
            "253/253 [==============================] - 113s 448ms/step - loss: 0.1024 - acc: 0.9738 - val_loss: 0.6001 - val_acc: 0.7851\n",
            "Epoch 16/20\n",
            "253/253 [==============================] - 113s 449ms/step - loss: 0.0831 - acc: 0.9780 - val_loss: 0.9237 - val_acc: 0.7733\n",
            "Epoch 17/20\n",
            "253/253 [==============================] - 113s 448ms/step - loss: 0.0829 - acc: 0.9792 - val_loss: 1.3783 - val_acc: 0.7743\n",
            "Epoch 18/20\n",
            "253/253 [==============================] - 113s 447ms/step - loss: 0.0779 - acc: 0.9792 - val_loss: 1.0979 - val_acc: 0.7723\n",
            "Epoch 19/20\n",
            "253/253 [==============================] - 113s 447ms/step - loss: 0.0885 - acc: 0.9767 - val_loss: 1.6892 - val_acc: 0.7782\n",
            "Epoch 20/20\n",
            "253/253 [==============================] - 113s 446ms/step - loss: 0.0749 - acc: 0.9790 - val_loss: 0.9400 - val_acc: 0.7762\n"
          ]
        },
        {
          "output_type": "execute_result",
          "data": {
            "text/plain": [
              "<keras.callbacks.History at 0x7f526e7200d0>"
            ]
          },
          "metadata": {},
          "execution_count": 12
        }
      ]
    },
    {
      "cell_type": "code",
      "metadata": {
        "id": "2YxY9IgLfhJj"
      },
      "source": [
        "y_pred=keras_model.predict(x_test)"
      ],
      "execution_count": null,
      "outputs": []
    },
    {
      "cell_type": "code",
      "metadata": {
        "id": "ZCQKjlGJfsgJ"
      },
      "source": [
        "def plot_metrics(pred, true_labels):\n",
        "    \"\"\"Plots a ROC curve with the accuracy and the AUC\"\"\"\n",
        "    acc = accuracy_score(true_labels, np.array(pred.flatten() >= .5, dtype='int'))\n",
        "    fpr, tpr, thresholds = roc_curve(true_labels, pred)\n",
        "    auc = roc_auc_score(true_labels, pred)\n",
        "\n",
        "    fig, ax = plt.subplots(1, figsize=(8,8))\n",
        "    ax.plot(fpr, tpr, color='red')\n",
        "    ax.plot([0,1], [0,1], color='black', linestyle='--')\n",
        "    ax.set_title(f\"AUC: {auc}\\nACC: {acc}\");\n",
        "    return fig\n",
        "\n",
        "def warmup(epoch, lr):\n",
        "    \"\"\"Used for increasing the learning rate slowly, this tends to achieve better convergence.\n",
        "    However, as we are finetuning for few epoch it's not crucial.\n",
        "    \"\"\"\n",
        "    return max(lr +1e-6, 2e-5)"
      ],
      "execution_count": null,
      "outputs": []
    },
    {
      "cell_type": "code",
      "metadata": {
        "colab": {
          "base_uri": "https://localhost:8080/",
          "height": 1000
        },
        "id": "e5g4tSFlfoM4",
        "outputId": "a6d7d159-9b21-497b-c5d6-5838ef92e108"
      },
      "source": [
        "from sklearn.metrics import accuracy_score, roc_auc_score, roc_curve\n",
        "plot_metrics(np.argmax(y_test, axis=1), np.argmax(y_pred, axis=1))"
      ],
      "execution_count": null,
      "outputs": [
        {
          "output_type": "execute_result",
          "data": {
            "image/png": "[encoded data removed]",
            "text/plain": [
              "<Figure size 576x576 with 1 Axes>"
            ]
          },
          "metadata": {},
          "execution_count": 17
        },
        {
          "output_type": "display_data",
          "data": {
            "image/png": "[encoded data removed]",
            "text/plain": [
              "<Figure size 576x576 with 1 Axes>"
            ]
          },
          "metadata": {
            "needs_background": "light"
          }
        }
      ]
    },
    {
      "cell_type": "code",
      "metadata": {
        "id": "QPqBf2WPgkNf",
        "colab": {
          "base_uri": "https://localhost:8080/"
        },
        "outputId": "30f8d43c-3043-48e3-c2e1-8cbdcfc418a5"
      },
      "source": [
        "print(classification_report(np.argmax(y_test, axis=1), np.argmax(y_pred, axis=1)))"
      ],
      "execution_count": null,
      "outputs": [
        {
          "output_type": "stream",
          "name": "stdout",
          "text": [
            "              precision    recall  f1-score   support\n",
            "\n",
            "           0       0.78      0.75      0.77       492\n",
            "           1       0.77      0.80      0.79       518\n",
            "\n",
            "    accuracy                           0.78      1010\n",
            "   macro avg       0.78      0.78      0.78      1010\n",
            "weighted avg       0.78      0.78      0.78      1010\n",
            "\n"
          ]
        }
      ]
    },
    {
      "cell_type": "code",
      "metadata": {
        "id": "6ofO_xghgwWR",
        "colab": {
          "base_uri": "https://localhost:8080/"
        },
        "outputId": "99beeebd-2209-4f08-c15f-d18e7b223c4c"
      },
      "source": [
        "from sklearn.metrics import confusion_matrix\n",
        "confusion_matrix(np.argmax(y_test, axis=1), np.argmax(y_pred, axis=1))"
      ],
      "execution_count": null,
      "outputs": [
        {
          "output_type": "execute_result",
          "data": {
            "text/plain": [
              "array([[368, 124],\n",
              "       [102, 416]])"
            ]
          },
          "metadata": {},
          "execution_count": 19
        }
      ]
    },
    {
      "cell_type": "code",
      "metadata": {
        "colab": {
          "base_uri": "https://localhost:8080/",
          "height": 467
        },
        "id": "aIWvx19Ff0cy",
        "outputId": "c8ae8e04-007d-4946-d0bf-b62366a50c40"
      },
      "source": [
        "from sklearn.metrics import confusion_matrix, accuracy_score, ConfusionMatrixDisplay\n",
        "import numpy as np\n",
        "import matplotlib.pyplot as plt\n",
        "import numpy as np\n",
        "import itertools\n",
        "\n",
        "def plot_confusion_matrix(cm,\n",
        "                          target_names,\n",
        "                          title='Confusion matrix',\n",
        "                          cmap=None,\n",
        "                          normalize=True):\n",
        "\n",
        "    accuracy = np.trace(cm) / np.sum(cm).astype('float')\n",
        "    misclass = 1 - accuracy\n",
        "\n",
        "    if cmap is None:\n",
        "        cmap = plt.get_cmap('Blues')\n",
        "\n",
        "    plt.figure(figsize=(8, 6))\n",
        "    plt.imshow(cm, interpolation='nearest', cmap=cmap)\n",
        "    plt.title(title)\n",
        "    # plt.colorbar()\n",
        "\n",
        "    if target_names is not None:\n",
        "        tick_marks = np.arange(len(target_names))\n",
        "        plt.xticks(tick_marks, target_names, rotation=45)\n",
        "        plt.yticks(tick_marks, target_names)\n",
        "\n",
        "    if normalize:\n",
        "        cm = cm.astype('float') / cm.sum(axis=1)[:, np.newaxis]\n",
        "\n",
        "\n",
        "    thresh = cm.max() / 1.5 if normalize else cm.max() / 2\n",
        "    for i, j in itertools.product(range(cm.shape[0]), range(cm.shape[1])):\n",
        "        if normalize:\n",
        "            plt.text(j, i, \"{:0.4f}\".format(cm[i, j]),\n",
        "                     horizontalalignment=\"center\",\n",
        "                     color=\"white\" if cm[i, j] > thresh else \"black\")\n",
        "        else:\n",
        "            plt.text(j, i, \"{:,}\".format(cm[i, j]),\n",
        "                     horizontalalignment=\"center\",\n",
        "                     color=\"white\" if cm[i, j] > thresh else \"black\")\n",
        "\n",
        "\n",
        "    plt.tight_layout()\n",
        "    plt.ylabel('True label')\n",
        "    plt.xlabel('Predicted label\\naccuracy={:0.4f}; misclass={:0.4f}'.format(accuracy, misclass))\n",
        "    plt.show()\n",
        "\n",
        "cm = confusion_matrix(np.argmax(y_test, axis=1), np.argmax(y_pred, axis=1))\n",
        "labels = [\"Genuine\",  \"Fake\"]\n",
        "\n",
        "plot_confusion_matrix(cm,labels,\n",
        "                          title='Confusion matrix',\n",
        "                          cmap=None,\n",
        "                          normalize=True)\n",
        " "
      ],
      "execution_count": null,
      "outputs": [
        {
          "output_type": "display_data",
          "data": {
            "image/png": "[encoded data removed]",
            "text/plain": [
              "<Figure size 576x432 with 1 Axes>"
            ]
          },
          "metadata": {
            "needs_background": "light"
          }
        }
      ]
    }
  ]
}