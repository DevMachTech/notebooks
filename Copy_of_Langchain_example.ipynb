{
  "cells": [
    {
      "cell_type": "markdown",
      "metadata": {
        "id": "view-in-github",
        "colab_type": "text"
      },
      "source": [
        "<a href=\"https://colab.research.google.com/github/DevMachTech/notebooks/blob/master/Copy_of_Langchain_example.ipynb\" target=\"_parent\"><img src=\"https://colab.research.google.com/assets/colab-badge.svg\" alt=\"Open In Colab\"/></a>"
      ]
    },
    {
      "cell_type": "markdown",
      "metadata": {
        "id": "uVkhnyE-k8ec"
      },
      "source": [
        "# Langchain example"
      ]
    },
    {
      "cell_type": "code",
      "execution_count": null,
      "metadata": {
        "id": "BYYzuVULk8ef"
      },
      "outputs": [],
      "source": [
        "%pip install comet_ml langchain openai google-search-results spacy textstat pandas\n",
        "\n",
        "import sys\n",
        "!{sys.executable} -m spacy download en_core_web_sm"
      ]
    },
    {
      "cell_type": "markdown",
      "metadata": {
        "id": "bAmBWVL5k8ef"
      },
      "source": [
        "### Initialize Comet"
      ]
    },
    {
      "cell_type": "markdown",
      "metadata": {
        "id": "4Fb62VQRk8ef"
      },
      "source": [
        "You can grab your [Comet API Key here](https://www.comet.com/signup?utm_source=langchain&utm_medium=referral&utm_campaign=comet_notebook) or click the link after intializing Comet"
      ]
    },
    {
      "cell_type": "code",
      "execution_count": null,
      "metadata": {
        "colab": {
          "base_uri": "https://localhost:8080/"
        },
        "id": "87esFUPkk8eg",
        "outputId": "2781138f-d644-4888-ac23-517d289e6a96"
      },
      "outputs": [
        {
          "name": "stdout",
          "output_type": "stream",
          "text": [
            "Please paste your Comet API key from https://www.comet.com/api/my/settings/\n",
            "(api key may not show as you type)\n",
            "Comet API key: ··········\n"
          ]
        },
        {
          "output_type": "stream",
          "name": "stderr",
          "text": [
            "\u001b[1;38;5;39mCOMET INFO:\u001b[0m Valid Comet API Key saved in /root/.comet.config (set COMET_CONFIG to change where it is saved).\n"
          ]
        }
      ],
      "source": [
        "import comet_ml\n",
        "\n",
        "comet_ml.init(project_name=\"comet-example-langchain\")"
      ]
    },
    {
      "cell_type": "markdown",
      "metadata": {
        "id": "hqyAkPVZk8eg"
      },
      "source": [
        "### Set OpenAI and SerpAPI credentials"
      ]
    },
    {
      "cell_type": "markdown",
      "metadata": {
        "id": "vGg1j-kXk8eg"
      },
      "source": [
        "You will need an [OpenAI API Key](https://platform.openai.com/account/api-keys) and a [SerpAPI API Key](https://serpapi.com/dashboard) to run the following examples"
      ]
    },
    {
      "cell_type": "code",
      "execution_count": null,
      "metadata": {
        "id": "GedHs_P1k8eg"
      },
      "outputs": [],
      "source": [
        "import os\n",
        "\n",
        "os.environ[\"OPENAI_API_KEY\"] = \"...\"\n",
        "os.environ[\"SERPAPI_API_KEY\"] = \"...\""
      ]
    },
    {
      "cell_type": "code",
      "source": [
        "from langchain.agents import initialize_agent, load_tools\n",
        "from langchain.callbacks import CometCallbackHandler, StdOutCallbackHandler\n",
        "from langchain.callbacks.base import CallbackManager\n",
        "from langchain.llms import OpenAI\n",
        "\n",
        "comet_callback = CometCallbackHandler(\n",
        "    project_name=\"langchain-example\",\n",
        "    complexity_metrics=True,\n",
        "    stream_logs=True,\n",
        "    tags=[\"agent\"],\n",
        ")\n",
        "manager = CallbackManager([StdOutCallbackHandler(), comet_callback])\n",
        "\n",
        "llm = OpenAI(temperature=0.9, callback_manager=manager, verbose=True)\n",
        "tools = load_tools([\"serpapi\"], llm=llm, callback_manager=manager)\n",
        "\n",
        "agent = initialize_agent(\n",
        "    tools,\n",
        "    llm,\n",
        "    agent=\"zero-shot-react-description\",\n",
        "    callback_manager=manager,\n",
        "    verbose=True,\n",
        ")\n",
        "\n",
        "agent.run(\n",
        "    \"What's the population of the country of the team that won the last soccer match between Real Madrid and Chelsea?\"\n",
        ")\n",
        "\n",
        "comet_callback.flush_tracker(agent, finish=True)"
      ],
      "metadata": {
        "colab": {
          "base_uri": "https://localhost:8080/"
        },
        "id": "HbCXulW_nF0A",
        "outputId": "8f0d92f1-e684-48c9-dab4-8d2691974350"
      },
      "execution_count": null,
      "outputs": [
        {
          "output_type": "stream",
          "name": "stderr",
          "text": [
            "\u001b[1;38;5;214mCOMET WARNING:\u001b[0m As you are running in a Jupyter environment, you will need to call `experiment.end()` when finished to ensure all metrics and code are logged before exiting.\n",
            "\u001b[1;38;5;39mCOMET INFO:\u001b[0m Couldn't find a Git repository in '/content' nor in any parent directory. Set `COMET_GIT_DIRECTORY` if your Git Repository is elsewhere.\n",
            "\u001b[1;38;5;39mCOMET INFO:\u001b[0m Experiment is live on comet.com https://www.comet.com/svpino/langchain-example/9f78c327ff8b42d6b495716dfc21b9f2\n",
            "\n",
            "\u001b[1;38;5;214mCOMET WARNING:\u001b[0m The comet_ml callback is currently in beta and is subject to change based on updates to `langchain`. Please report any issues to https://github.com/comet-ml/issue_tracking/issues with the tag `langchain`.\n"
          ]
        },
        {
          "output_type": "stream",
          "name": "stdout",
          "text": [
            "\n",
            "\n",
            "\u001b[1m> Entering new AgentExecutor chain...\u001b[0m\n",
            "\u001b[32;1m\u001b[1;3m I need to know the name of the country\n",
            "Action: Search\n",
            "Action Input: Name of the winning soccer team in the last match between Real Madrid and Chelsea\u001b[0m\u001b[36;1m\u001b[1;3mReal Madrid breeze past 10-man Chelsea in Champions League first leg. Defending champions Real Madrid handily beat Chelsea 2-0 in their Champions League quarterfinal first leg at the Santiago Bernabeu on Wednesday in a match whose final scoreline could have easily been more lopsided.\u001b[0m\u001b[32;1m\u001b[1;3m I need to know what country Real Madrid is from\n",
            "Action: Search\n",
            "Action Input: Country of Real Madrid\u001b[0m\u001b[36;1m\u001b[1;3mMadrid, Spain\u001b[0m\u001b[32;1m\u001b[1;3m I now know the population of Spain\n",
            "Action: Search\n",
            "Action Input: Population of Spain\u001b[0m\u001b[36;1m\u001b[1;3mSpain, a country on Europe’s Iberian Peninsula, includes 17 autonomous regions with diverse geography and cultures. Capital city Madrid is home to the Royal Palace and Prado museum, housing works by European masters. Segovia has a medieval castle (the Alcázar) and an intact Roman aqueduct. Catalonia’s capital, Barcelona, is defined by Antoni Gaudí’s whimsical modernist landmarks like the Sagrada Família church. ― Google\u001b[0m"
          ]
        },
        {
          "output_type": "stream",
          "name": "stderr",
          "text": [
            "\u001b[1;38;5;196mCOMET ERROR:\u001b[0m Failed to export agent or LLM to Comet\n",
            "Traceback (most recent call last):\n",
            "  File \"/usr/local/lib/python3.9/dist-packages/langchain/callbacks/comet_ml_callback.py\", line 484, in _log_model\n",
            "    langchain_asset.save(langchain_asset_path)\n",
            "  File \"/usr/local/lib/python3.9/dist-packages/langchain/agents/agent.py\", line 591, in save\n",
            "    raise ValueError(\n",
            "ValueError: Saving not supported for agent executors. If you are trying to save the agent, please use the `.save_agent(...)`\n",
            "\n",
            "During handling of the above exception, another exception occurred:\n",
            "\n",
            "Traceback (most recent call last):\n",
            "  File \"/usr/local/lib/python3.9/dist-packages/langchain/callbacks/comet_ml_callback.py\", line 449, in flush_tracker\n",
            "    self._log_model(langchain_asset)\n",
            "  File \"/usr/local/lib/python3.9/dist-packages/langchain/callbacks/comet_ml_callback.py\", line 488, in _log_model\n",
            "    langchain_asset.save_agent(langchain_asset_path)\n",
            "  File \"/usr/local/lib/python3.9/dist-packages/langchain/agents/agent.py\", line 599, in save_agent\n",
            "    return self.agent.save(file_path)\n",
            "  File \"/usr/local/lib/python3.9/dist-packages/langchain/agents/agent.py\", line 145, in save\n",
            "    agent_dict = self.dict()\n",
            "  File \"/usr/local/lib/python3.9/dist-packages/langchain/agents/agent.py\", line 119, in dict\n",
            "    _dict = super().dict()\n",
            "  File \"pydantic/main.py\", line 449, in pydantic.main.BaseModel.dict\n",
            "  File \"pydantic/main.py\", line 868, in _iter\n",
            "  File \"pydantic/main.py\", line 743, in pydantic.main.BaseModel._get_value\n",
            "  File \"/usr/local/lib/python3.9/dist-packages/langchain/schema.py\", line 381, in dict\n",
            "    output_parser_dict[\"_type\"] = self._type\n",
            "  File \"/usr/local/lib/python3.9/dist-packages/langchain/schema.py\", line 376, in _type\n",
            "    raise NotImplementedError\n",
            "NotImplementedError\n"
          ]
        },
        {
          "output_type": "stream",
          "name": "stdout",
          "text": [
            "\u001b[32;1m\u001b[1;3m I now know the final answer\n",
            "Final Answer: The population of Spain is approximately 46.77 million people.\u001b[0m\n",
            "\n",
            "\u001b[1m> Finished chain.\u001b[0m\n"
          ]
        },
        {
          "output_type": "stream",
          "name": "stderr",
          "text": [
            "\u001b[1;38;5;39mCOMET INFO:\u001b[0m ---------------------------------------------------------------------------------------\n",
            "\u001b[1;38;5;39mCOMET INFO:\u001b[0m Comet.ml Experiment Summary\n",
            "\u001b[1;38;5;39mCOMET INFO:\u001b[0m ---------------------------------------------------------------------------------------\n",
            "\u001b[1;38;5;39mCOMET INFO:\u001b[0m   Data:\n",
            "\u001b[1;38;5;39mCOMET INFO:\u001b[0m     display_summary_level : 1\n",
            "\u001b[1;38;5;39mCOMET INFO:\u001b[0m     url                   : https://www.comet.com/svpino/langchain-example/9f78c327ff8b42d6b495716dfc21b9f2\n",
            "\u001b[1;38;5;39mCOMET INFO:\u001b[0m   Metrics [count] (min, max):\n",
            "\u001b[1;38;5;39mCOMET INFO:\u001b[0m     automated_readability_index_25% [4]   : (7.2, 13.1)\n",
            "\u001b[1;38;5;39mCOMET INFO:\u001b[0m     automated_readability_index_50% [4]   : (7.2, 13.1)\n",
            "\u001b[1;38;5;39mCOMET INFO:\u001b[0m     automated_readability_index_75% [4]   : (7.2, 13.1)\n",
            "\u001b[1;38;5;39mCOMET INFO:\u001b[0m     automated_readability_index_count     : 1.0\n",
            "\u001b[1;38;5;39mCOMET INFO:\u001b[0m     automated_readability_index_max [4]   : (7.2, 13.1)\n",
            "\u001b[1;38;5;39mCOMET INFO:\u001b[0m     automated_readability_index_mean [4]  : (7.2, 13.1)\n",
            "\u001b[1;38;5;39mCOMET INFO:\u001b[0m     automated_readability_index_min [4]   : (7.2, 13.1)\n",
            "\u001b[1;38;5;39mCOMET INFO:\u001b[0m     automated_readability_index_std       : nan\n",
            "\u001b[1;38;5;39mCOMET INFO:\u001b[0m     coleman_liau_index_25% [4]            : (7.9, 10.32)\n",
            "\u001b[1;38;5;39mCOMET INFO:\u001b[0m     coleman_liau_index_50% [4]            : (7.9, 10.32)\n",
            "\u001b[1;38;5;39mCOMET INFO:\u001b[0m     coleman_liau_index_75% [4]            : (7.9, 10.32)\n",
            "\u001b[1;38;5;39mCOMET INFO:\u001b[0m     coleman_liau_index_count              : 1.0\n",
            "\u001b[1;38;5;39mCOMET INFO:\u001b[0m     coleman_liau_index_max [4]            : (7.9, 10.32)\n",
            "\u001b[1;38;5;39mCOMET INFO:\u001b[0m     coleman_liau_index_mean [4]           : (7.9, 10.32)\n",
            "\u001b[1;38;5;39mCOMET INFO:\u001b[0m     coleman_liau_index_min [4]            : (7.9, 10.32)\n",
            "\u001b[1;38;5;39mCOMET INFO:\u001b[0m     coleman_liau_index_std                : nan\n",
            "\u001b[1;38;5;39mCOMET INFO:\u001b[0m     crawford_25% [4]                      : (2.2, 3.2)\n",
            "\u001b[1;38;5;39mCOMET INFO:\u001b[0m     crawford_50% [4]                      : (2.2, 3.2)\n",
            "\u001b[1;38;5;39mCOMET INFO:\u001b[0m     crawford_75% [4]                      : (2.2, 3.2)\n",
            "\u001b[1;38;5;39mCOMET INFO:\u001b[0m     crawford_count                        : 1.0\n",
            "\u001b[1;38;5;39mCOMET INFO:\u001b[0m     crawford_max [4]                      : (2.2, 3.2)\n",
            "\u001b[1;38;5;39mCOMET INFO:\u001b[0m     crawford_mean [4]                     : (2.2, 3.2)\n",
            "\u001b[1;38;5;39mCOMET INFO:\u001b[0m     crawford_min [4]                      : (2.2, 3.2)\n",
            "\u001b[1;38;5;39mCOMET INFO:\u001b[0m     crawford_std                          : nan\n",
            "\u001b[1;38;5;39mCOMET INFO:\u001b[0m     dale_chall_readability_score_25% [4]  : (7.16, 9.63)\n",
            "\u001b[1;38;5;39mCOMET INFO:\u001b[0m     dale_chall_readability_score_50% [4]  : (7.16, 9.63)\n",
            "\u001b[1;38;5;39mCOMET INFO:\u001b[0m     dale_chall_readability_score_75% [4]  : (7.16, 9.63)\n",
            "\u001b[1;38;5;39mCOMET INFO:\u001b[0m     dale_chall_readability_score_count    : 1.0\n",
            "\u001b[1;38;5;39mCOMET INFO:\u001b[0m     dale_chall_readability_score_max [4]  : (7.16, 9.63)\n",
            "\u001b[1;38;5;39mCOMET INFO:\u001b[0m     dale_chall_readability_score_mean [4] : (7.16, 9.63)\n",
            "\u001b[1;38;5;39mCOMET INFO:\u001b[0m     dale_chall_readability_score_min [4]  : (7.16, 9.63)\n",
            "\u001b[1;38;5;39mCOMET INFO:\u001b[0m     dale_chall_readability_score_std      : nan\n",
            "\u001b[1;38;5;39mCOMET INFO:\u001b[0m     difficult_words_25% [4]               : (2.0, 4.0)\n",
            "\u001b[1;38;5;39mCOMET INFO:\u001b[0m     difficult_words_50% [4]               : (2.0, 4.0)\n",
            "\u001b[1;38;5;39mCOMET INFO:\u001b[0m     difficult_words_75% [4]               : (2.0, 4.0)\n",
            "\u001b[1;38;5;39mCOMET INFO:\u001b[0m     difficult_words_count                 : 1.0\n",
            "\u001b[1;38;5;39mCOMET INFO:\u001b[0m     difficult_words_max [4]               : (2.0, 4.0)\n",
            "\u001b[1;38;5;39mCOMET INFO:\u001b[0m     difficult_words_mean [4]              : (2.0, 4.0)\n",
            "\u001b[1;38;5;39mCOMET INFO:\u001b[0m     difficult_words_min [4]               : (2.0, 4.0)\n",
            "\u001b[1;38;5;39mCOMET INFO:\u001b[0m     difficult_words_std                   : nan\n",
            "\u001b[1;38;5;39mCOMET INFO:\u001b[0m     fernandez_huerta_25% [4]              : (90.17, 104.48)\n",
            "\u001b[1;38;5;39mCOMET INFO:\u001b[0m     fernandez_huerta_50% [4]              : (90.17, 104.48)\n",
            "\u001b[1;38;5;39mCOMET INFO:\u001b[0m     fernandez_huerta_75% [4]              : (90.17, 104.48)\n",
            "\u001b[1;38;5;39mCOMET INFO:\u001b[0m     fernandez_huerta_count                : 1.0\n",
            "\u001b[1;38;5;39mCOMET INFO:\u001b[0m     fernandez_huerta_max [4]              : (90.17, 104.48)\n",
            "\u001b[1;38;5;39mCOMET INFO:\u001b[0m     fernandez_huerta_mean [4]             : (90.17, 104.48)\n",
            "\u001b[1;38;5;39mCOMET INFO:\u001b[0m     fernandez_huerta_min [4]              : (90.17, 104.48)\n",
            "\u001b[1;38;5;39mCOMET INFO:\u001b[0m     fernandez_huerta_std                  : nan\n",
            "\u001b[1;38;5;39mCOMET INFO:\u001b[0m     flesch_kincaid_grade_25% [4]          : (8.0, 10.7)\n",
            "\u001b[1;38;5;39mCOMET INFO:\u001b[0m     flesch_kincaid_grade_50% [4]          : (8.0, 10.7)\n",
            "\u001b[1;38;5;39mCOMET INFO:\u001b[0m     flesch_kincaid_grade_75% [4]          : (8.0, 10.7)\n",
            "\u001b[1;38;5;39mCOMET INFO:\u001b[0m     flesch_kincaid_grade_count            : 1.0\n",
            "\u001b[1;38;5;39mCOMET INFO:\u001b[0m     flesch_kincaid_grade_max [4]          : (8.0, 10.7)\n",
            "\u001b[1;38;5;39mCOMET INFO:\u001b[0m     flesch_kincaid_grade_mean [4]         : (8.0, 10.7)\n",
            "\u001b[1;38;5;39mCOMET INFO:\u001b[0m     flesch_kincaid_grade_min [4]          : (8.0, 10.7)\n",
            "\u001b[1;38;5;39mCOMET INFO:\u001b[0m     flesch_kincaid_grade_std              : nan\n",
            "\u001b[1;38;5;39mCOMET INFO:\u001b[0m     flesch_reading_ease_25% [4]           : (45.93, 70.13)\n",
            "\u001b[1;38;5;39mCOMET INFO:\u001b[0m     flesch_reading_ease_50% [4]           : (45.93, 70.13)\n",
            "\u001b[1;38;5;39mCOMET INFO:\u001b[0m     flesch_reading_ease_75% [4]           : (45.93, 70.13)\n",
            "\u001b[1;38;5;39mCOMET INFO:\u001b[0m     flesch_reading_ease_count             : 1.0\n",
            "\u001b[1;38;5;39mCOMET INFO:\u001b[0m     flesch_reading_ease_max [4]           : (45.93, 70.13)\n",
            "\u001b[1;38;5;39mCOMET INFO:\u001b[0m     flesch_reading_ease_mean [4]          : (45.93, 70.13)\n",
            "\u001b[1;38;5;39mCOMET INFO:\u001b[0m     flesch_reading_ease_min [4]           : (45.93, 70.13)\n",
            "\u001b[1;38;5;39mCOMET INFO:\u001b[0m     flesch_reading_ease_std               : nan\n",
            "\u001b[1;38;5;39mCOMET INFO:\u001b[0m     gulpease_index_25% [4]                : (56.1, 72.5)\n",
            "\u001b[1;38;5;39mCOMET INFO:\u001b[0m     gulpease_index_50% [4]                : (56.1, 72.5)\n",
            "\u001b[1;38;5;39mCOMET INFO:\u001b[0m     gulpease_index_75% [4]                : (56.1, 72.5)\n",
            "\u001b[1;38;5;39mCOMET INFO:\u001b[0m     gulpease_index_count                  : 1.0\n",
            "\u001b[1;38;5;39mCOMET INFO:\u001b[0m     gulpease_index_max [4]                : (56.1, 72.5)\n",
            "\u001b[1;38;5;39mCOMET INFO:\u001b[0m     gulpease_index_mean [4]               : (56.1, 72.5)\n",
            "\u001b[1;38;5;39mCOMET INFO:\u001b[0m     gulpease_index_min [4]                : (56.1, 72.5)\n",
            "\u001b[1;38;5;39mCOMET INFO:\u001b[0m     gulpease_index_std                    : nan\n",
            "\u001b[1;38;5;39mCOMET INFO:\u001b[0m     gunning_fog_25% [4]                   : (7.2, 11.2)\n",
            "\u001b[1;38;5;39mCOMET INFO:\u001b[0m     gunning_fog_50% [4]                   : (7.2, 11.2)\n",
            "\u001b[1;38;5;39mCOMET INFO:\u001b[0m     gunning_fog_75% [4]                   : (7.2, 11.2)\n",
            "\u001b[1;38;5;39mCOMET INFO:\u001b[0m     gunning_fog_count                     : 1.0\n",
            "\u001b[1;38;5;39mCOMET INFO:\u001b[0m     gunning_fog_max [4]                   : (7.2, 11.2)\n",
            "\u001b[1;38;5;39mCOMET INFO:\u001b[0m     gunning_fog_mean [4]                  : (7.2, 11.2)\n",
            "\u001b[1;38;5;39mCOMET INFO:\u001b[0m     gunning_fog_min [4]                   : (7.2, 11.2)\n",
            "\u001b[1;38;5;39mCOMET INFO:\u001b[0m     gunning_fog_std                       : nan\n",
            "\u001b[1;38;5;39mCOMET INFO:\u001b[0m     gutierrez_polini_25% [4]              : (43.19, 45.79)\n",
            "\u001b[1;38;5;39mCOMET INFO:\u001b[0m     gutierrez_polini_50% [4]              : (43.19, 45.79)\n",
            "\u001b[1;38;5;39mCOMET INFO:\u001b[0m     gutierrez_polini_75% [4]              : (43.19, 45.79)\n",
            "\u001b[1;38;5;39mCOMET INFO:\u001b[0m     gutierrez_polini_count                : 1.0\n",
            "\u001b[1;38;5;39mCOMET INFO:\u001b[0m     gutierrez_polini_max [4]              : (43.19, 45.79)\n",
            "\u001b[1;38;5;39mCOMET INFO:\u001b[0m     gutierrez_polini_mean [4]             : (43.19, 45.79)\n",
            "\u001b[1;38;5;39mCOMET INFO:\u001b[0m     gutierrez_polini_min [4]              : (43.19, 45.79)\n",
            "\u001b[1;38;5;39mCOMET INFO:\u001b[0m     gutierrez_polini_std                  : nan\n",
            "\u001b[1;38;5;39mCOMET INFO:\u001b[0m     linsear_write_formula_25% [4]         : (4.25, 14.0)\n",
            "\u001b[1;38;5;39mCOMET INFO:\u001b[0m     linsear_write_formula_50% [4]         : (4.25, 14.0)\n",
            "\u001b[1;38;5;39mCOMET INFO:\u001b[0m     linsear_write_formula_75% [4]         : (4.25, 14.0)\n",
            "\u001b[1;38;5;39mCOMET INFO:\u001b[0m     linsear_write_formula_count           : 1.0\n",
            "\u001b[1;38;5;39mCOMET INFO:\u001b[0m     linsear_write_formula_max [4]         : (4.25, 14.0)\n",
            "\u001b[1;38;5;39mCOMET INFO:\u001b[0m     linsear_write_formula_mean [4]        : (4.25, 14.0)\n",
            "\u001b[1;38;5;39mCOMET INFO:\u001b[0m     linsear_write_formula_min [4]         : (4.25, 14.0)\n",
            "\u001b[1;38;5;39mCOMET INFO:\u001b[0m     linsear_write_formula_std             : nan\n",
            "\u001b[1;38;5;39mCOMET INFO:\u001b[0m     openai_completion_tokens [4]          : (32, 94)\n",
            "\u001b[1;38;5;39mCOMET INFO:\u001b[0m     openai_prompt_tokens [4]              : (180, 1207)\n",
            "\u001b[1;38;5;39mCOMET INFO:\u001b[0m     openai_total_tokens [4]               : (212, 1301)\n",
            "\u001b[1;38;5;39mCOMET INFO:\u001b[0m     osman_25% [4]                         : (60.49, 65.65)\n",
            "\u001b[1;38;5;39mCOMET INFO:\u001b[0m     osman_50% [4]                         : (60.49, 65.65)\n",
            "\u001b[1;38;5;39mCOMET INFO:\u001b[0m     osman_75% [4]                         : (60.49, 65.65)\n",
            "\u001b[1;38;5;39mCOMET INFO:\u001b[0m     osman_count                           : 1.0\n",
            "\u001b[1;38;5;39mCOMET INFO:\u001b[0m     osman_max [4]                         : (60.49, 65.65)\n",
            "\u001b[1;38;5;39mCOMET INFO:\u001b[0m     osman_mean [4]                        : (60.49, 65.65)\n",
            "\u001b[1;38;5;39mCOMET INFO:\u001b[0m     osman_min [4]                         : (60.49, 65.65)\n",
            "\u001b[1;38;5;39mCOMET INFO:\u001b[0m     osman_std                             : nan\n",
            "\u001b[1;38;5;39mCOMET INFO:\u001b[0m     smog_index_25%                        : 0.0\n",
            "\u001b[1;38;5;39mCOMET INFO:\u001b[0m     smog_index_50%                        : 0.0\n",
            "\u001b[1;38;5;39mCOMET INFO:\u001b[0m     smog_index_75%                        : 0.0\n",
            "\u001b[1;38;5;39mCOMET INFO:\u001b[0m     smog_index_count                      : 1.0\n",
            "\u001b[1;38;5;39mCOMET INFO:\u001b[0m     smog_index_max                        : 0.0\n",
            "\u001b[1;38;5;39mCOMET INFO:\u001b[0m     smog_index_mean                       : 0.0\n",
            "\u001b[1;38;5;39mCOMET INFO:\u001b[0m     smog_index_min                        : 0.0\n",
            "\u001b[1;38;5;39mCOMET INFO:\u001b[0m     smog_index_std                        : nan\n",
            "\u001b[1;38;5;39mCOMET INFO:\u001b[0m     szigriszt_pazos_25% [4]               : (88.39, 102.31)\n",
            "\u001b[1;38;5;39mCOMET INFO:\u001b[0m     szigriszt_pazos_50% [4]               : (88.39, 102.31)\n",
            "\u001b[1;38;5;39mCOMET INFO:\u001b[0m     szigriszt_pazos_75% [4]               : (88.39, 102.31)\n",
            "\u001b[1;38;5;39mCOMET INFO:\u001b[0m     szigriszt_pazos_count                 : 1.0\n",
            "\u001b[1;38;5;39mCOMET INFO:\u001b[0m     szigriszt_pazos_max [4]               : (88.39, 102.31)\n",
            "\u001b[1;38;5;39mCOMET INFO:\u001b[0m     szigriszt_pazos_mean [4]              : (88.39, 102.31)\n",
            "\u001b[1;38;5;39mCOMET INFO:\u001b[0m     szigriszt_pazos_min [4]               : (88.39, 102.31)\n",
            "\u001b[1;38;5;39mCOMET INFO:\u001b[0m     szigriszt_pazos_std                   : nan\n",
            "\u001b[1;38;5;39mCOMET INFO:\u001b[0m   Others:\n",
            "\u001b[1;38;5;39mCOMET INFO:\u001b[0m     Created from : langchain\n",
            "\u001b[1;38;5;39mCOMET INFO:\u001b[0m   Parameters:\n",
            "\u001b[1;38;5;39mCOMET INFO:\u001b[0m     model__type             : openai\n",
            "\u001b[1;38;5;39mCOMET INFO:\u001b[0m     model_best_of           : 1\n",
            "\u001b[1;38;5;39mCOMET INFO:\u001b[0m     model_frequency_penalty : 0\n",
            "\u001b[1;38;5;39mCOMET INFO:\u001b[0m     model_logit_bias        : {}\n",
            "\u001b[1;38;5;39mCOMET INFO:\u001b[0m     model_max_tokens        : 256\n",
            "\u001b[1;38;5;39mCOMET INFO:\u001b[0m     model_model_name        : text-davinci-003\n",
            "\u001b[1;38;5;39mCOMET INFO:\u001b[0m     model_n                 : 1\n",
            "\u001b[1;38;5;39mCOMET INFO:\u001b[0m     model_presence_penalty  : 0\n",
            "\u001b[1;38;5;39mCOMET INFO:\u001b[0m     model_request_timeout   : 1\n",
            "\u001b[1;38;5;39mCOMET INFO:\u001b[0m     model_temperature       : 0.9\n",
            "\u001b[1;38;5;39mCOMET INFO:\u001b[0m     model_top_p             : 1\n",
            "\u001b[1;38;5;39mCOMET INFO:\u001b[0m   Uploads:\n",
            "\u001b[1;38;5;39mCOMET INFO:\u001b[0m     asset               : 5 (16.55 KB)\n",
            "\u001b[1;38;5;39mCOMET INFO:\u001b[0m     dataframe           : 1 (7.36 KB)\n",
            "\u001b[1;38;5;39mCOMET INFO:\u001b[0m     environment details : 1\n",
            "\u001b[1;38;5;39mCOMET INFO:\u001b[0m     filename            : 1\n",
            "\u001b[1;38;5;39mCOMET INFO:\u001b[0m     installed packages  : 1\n",
            "\u001b[1;38;5;39mCOMET INFO:\u001b[0m     notebook            : 2\n",
            "\u001b[1;38;5;39mCOMET INFO:\u001b[0m     os packages         : 1\n",
            "\u001b[1;38;5;39mCOMET INFO:\u001b[0m     source_code         : 1\n",
            "\u001b[1;38;5;39mCOMET INFO:\u001b[0m     text-sample         : 24\n",
            "\u001b[1;38;5;39mCOMET INFO:\u001b[0m \n",
            "\u001b[1;38;5;39mCOMET INFO:\u001b[0m Uploading 1 metrics, params and output messages\n"
          ]
        }
      ]
    },
    {
      "cell_type": "code",
      "source": [],
      "metadata": {
        "id": "LeRO_LdywHqC"
      },
      "execution_count": null,
      "outputs": []
    }
  ],
  "metadata": {
    "kernelspec": {
      "display_name": "Python 3 (ipykernel)",
      "language": "python",
      "name": "python3"
    },
    "language_info": {
      "codemirror_mode": {
        "name": "ipython",
        "version": 3
      },
      "file_extension": ".py",
      "mimetype": "text/x-python",
      "name": "python",
      "nbconvert_exporter": "python",
      "pygments_lexer": "ipython3",
      "version": "3.9.15"
    },
    "colab": {
      "provenance": [],
      "include_colab_link": true
    }
  },
  "nbformat": 4,
  "nbformat_minor": 0
}